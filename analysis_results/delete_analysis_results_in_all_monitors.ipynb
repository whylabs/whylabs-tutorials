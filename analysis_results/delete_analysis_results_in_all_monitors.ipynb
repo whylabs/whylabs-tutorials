{
  "cells": [
    {
      "cell_type": "markdown",
      "metadata": {
        "id": "view-in-github",
        "colab_type": "text"
      },
      "source": [
        "<a href=\"https://colab.research.google.com/gist/natiska/588c7796aa1947aea64a11b12a240527/delete_analysis_results_in_all_monitors.ipynb\" target=\"_parent\"><img src=\"https://colab.research.google.com/assets/colab-badge.svg\" alt=\"Open In Colab\"/></a>"
      ]
    },
    {
      "cell_type": "code",
      "source": [
        "%pip install whylabs_client"
      ],
      "metadata": {
        "colab": {
          "base_uri": "https://localhost:8080/"
        },
        "id": "zR2s0QKEoCk0",
        "outputId": "16707561-bd86-4151-b9a1-5d03ec2d1e73"
      },
      "id": "zR2s0QKEoCk0",
      "execution_count": 2,
      "outputs": [
        {
          "output_type": "stream",
          "name": "stdout",
          "text": [
            "Collecting whylabs_client\n",
            "  Downloading whylabs_client-0.5.3-py3-none-any.whl (402 kB)\n",
            "\u001b[2K     \u001b[90m━━━━━━━━━━━━━━━━━━━━━━━━━━━━━━━━━━━━━━━\u001b[0m \u001b[32m403.0/403.0 kB\u001b[0m \u001b[31m5.2 MB/s\u001b[0m eta \u001b[36m0:00:00\u001b[0m\n",
            "\u001b[?25hRequirement already satisfied: urllib3>=1.25.3 in /usr/local/lib/python3.10/dist-packages (from whylabs_client) (1.26.16)\n",
            "Requirement already satisfied: python-dateutil in /usr/local/lib/python3.10/dist-packages (from whylabs_client) (2.8.2)\n",
            "Requirement already satisfied: six>=1.5 in /usr/local/lib/python3.10/dist-packages (from python-dateutil->whylabs_client) (1.16.0)\n",
            "Installing collected packages: whylabs_client\n",
            "Successfully installed whylabs_client-0.5.3\n"
          ]
        }
      ]
    },
    {
      "cell_type": "code",
      "execution_count": 3,
      "id": "df08e1fb",
      "metadata": {
        "id": "df08e1fb"
      },
      "outputs": [],
      "source": [
        "import getpass\n",
        "import os\n",
        "import whylabs_client\n",
        "from whylabs_client.api import models_api, monitor_api, dataset_profile_api\n",
        "from whylabs_client.model.delete_analyzer_results_response import DeleteAnalyzerResultsResponse\n",
        "from whylabs_client.model.list_models_response import ListModelsResponse\n",
        "from pprint import pprint"
      ]
    },
    {
      "cell_type": "markdown",
      "source": [
        "## Configuring the API"
      ],
      "metadata": {
        "id": "qHEjYYxZo0zc"
      },
      "id": "qHEjYYxZo0zc"
    },
    {
      "cell_type": "code",
      "execution_count": 4,
      "id": "b85eb2a1",
      "metadata": {
        "id": "b85eb2a1",
        "colab": {
          "base_uri": "https://localhost:8080/"
        },
        "outputId": "6062d1b5-11b7-4ddf-be48-f1a16f102cd9"
      },
      "outputs": [
        {
          "output_type": "stream",
          "name": "stdout",
          "text": [
            "Enter your WhyLabs Org ID\n"
          ]
        }
      ],
      "source": [
        "# set your org-id here - should be something like \"org-xxxx\"\n",
        "print(\"Enter your WhyLabs Org ID\")\n",
        "os.environ[\"WHYLABS_DEFAULT_ORG_ID\"] = \"org-qEZQUE\""
      ]
    },
    {
      "cell_type": "code",
      "execution_count": 5,
      "id": "19c1fbef",
      "metadata": {
        "id": "19c1fbef",
        "colab": {
          "base_uri": "https://localhost:8080/"
        },
        "outputId": "6360b254-a90c-46ad-84c0-64344610b571"
      },
      "outputs": [
        {
          "output_type": "stream",
          "name": "stdout",
          "text": [
            "Enter your WhyLabs API key\n",
            "··········\n",
            "Using API Key ID:  iSnmQQOV6g\n"
          ]
        }
      ],
      "source": [
        "# set your API key here\n",
        "print(\"Enter your WhyLabs API key\")\n",
        "os.environ[\"WHYLABS_API_KEY\"] = getpass.getpass()\n",
        "\n",
        "print(\"Using API Key ID: \", os.environ[\"WHYLABS_API_KEY\"][0:10])"
      ]
    },
    {
      "cell_type": "code",
      "execution_count": 31,
      "id": "be1359e9",
      "metadata": {
        "id": "be1359e9"
      },
      "outputs": [],
      "source": [
        "configuration = whylabs_client.Configuration(host=\"https://api.whylabsapp.com\")\n",
        "configuration.discard_unknown_keys = True"
      ]
    },
    {
      "cell_type": "code",
      "execution_count": 32,
      "id": "c9d34a76",
      "metadata": {
        "id": "c9d34a76"
      },
      "outputs": [],
      "source": [
        "configuration.api_key['ApiKeyAuth'] = os.environ[\"WHYLABS_API_KEY\"]"
      ]
    },
    {
      "cell_type": "markdown",
      "source": [
        "## Deleting analysis results"
      ],
      "metadata": {
        "id": "OyrISIKDocKz"
      },
      "id": "OyrISIKDocKz"
    },
    {
      "cell_type": "code",
      "source": [
        "from datetime import datetime"
      ],
      "metadata": {
        "id": "N5gihYtUqh6x"
      },
      "id": "N5gihYtUqh6x",
      "execution_count": 11,
      "outputs": []
    },
    {
      "cell_type": "code",
      "source": [
        "def datetime_to_timestamp(dt):\n",
        "    epoch = datetime.utcfromtimestamp(0)\n",
        "    return int((dt - epoch).total_seconds() * 1000)"
      ],
      "metadata": {
        "id": "wBPWapAhqlv4"
      },
      "id": "wBPWapAhqlv4",
      "execution_count": 12,
      "outputs": []
    },
    {
      "cell_type": "code",
      "source": [
        "start_datetime = datetime(2023, 7, 9, 0, 0, 0)\n",
        "end_datetime = datetime(2023, 7, 23, 0, 0, 0)\n",
        "print(f\"Delete analysis results: \\n - from {start_datetime} UTC \\n - to {end_datetime} UTC\")"
      ],
      "metadata": {
        "colab": {
          "base_uri": "https://localhost:8080/"
        },
        "id": "8uJ-8QVLq42S",
        "outputId": "8c8c2487-4c3e-4a00-ffa1-730941e13f2e"
      },
      "id": "8uJ-8QVLq42S",
      "execution_count": 35,
      "outputs": [
        {
          "output_type": "stream",
          "name": "stdout",
          "text": [
            "Delete analysis results: \n",
            " - from 2023-07-09 00:00:00 UTC \n",
            " - to 2023-07-23 00:00:00 UTC\n"
          ]
        }
      ]
    },
    {
      "cell_type": "code",
      "source": [
        "start_timestamp = datetime_to_timestamp(start_datetime)\n",
        "end_timestamp = datetime_to_timestamp(end_datetime)"
      ],
      "metadata": {
        "id": "oGjQ6K8RsEg8"
      },
      "id": "oGjQ6K8RsEg8",
      "execution_count": 20,
      "outputs": []
    },
    {
      "cell_type": "code",
      "source": [
        "with whylabs_client.ApiClient(configuration) as api_client:\n",
        "    # Create an instance of the API class\n",
        "    api_instance = dataset_profile_api.DatasetProfileApi(api_client)\n",
        "    models_api_instance = models_api.ModelsApi(api_client)\n",
        "    models = models_api_instance.list_models(os.environ[\"WHYLABS_DEFAULT_ORG_ID\"])\n",
        "    for item in models[\"items\"]:\n",
        "      model_id = item['id']\n",
        "      print(model_id)\n",
        "      try:\n",
        "          # Deletes a set of analyzer results\n",
        "          api_response = api_instance.delete_analyzer_results(os.environ[\"WHYLABS_DEFAULT_ORG_ID\"], model_id, start_timestamp=start_timestamp, end_timestamp=end_timestamp)\n",
        "          pprint(api_response)\n",
        "      except whylabs_client.ApiException as e:\n",
        "          print(\"Exception when calling DatasetProfileApi->delete_analyzer_results: %s\\n\" % e)"
      ],
      "metadata": {
        "colab": {
          "base_uri": "https://localhost:8080/"
        },
        "id": "MwKajVkhpEvP",
        "outputId": "86a2067b-3b03-4100-fcff-9afb6ea4e1de"
      },
      "id": "MwKajVkhpEvP",
      "execution_count": 34,
      "outputs": [
        {
          "output_type": "stream",
          "name": "stdout",
          "text": [
            "model-1\n",
            "{'id': 'org-qEZQUE/model-1'}\n"
          ]
        }
      ]
    },
    {
      "cell_type": "code",
      "execution_count": null,
      "id": "214c1d72",
      "metadata": {
        "id": "214c1d72"
      },
      "outputs": [],
      "source": []
    }
  ],
  "metadata": {
    "kernelspec": {
      "display_name": "Python 3 (ipykernel)",
      "language": "python",
      "name": "python3"
    },
    "language_info": {
      "codemirror_mode": {
        "name": "ipython",
        "version": 3
      },
      "file_extension": ".py",
      "mimetype": "text/x-python",
      "name": "python",
      "nbconvert_exporter": "python",
      "pygments_lexer": "ipython3",
      "version": "3.11.3"
    },
    "colab": {
      "provenance": [],
      "toc_visible": true,
      "include_colab_link": true
    }
  },
  "nbformat": 4,
  "nbformat_minor": 5
}