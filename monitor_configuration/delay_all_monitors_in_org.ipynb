{
  "cells": [
    {
      "cell_type": "markdown",
      "metadata": {
        "id": "view-in-github",
        "colab_type": "text"
      },
      "source": [
        "<a href=\"https://colab.research.google.com/gist/natiska/b53e06518a24b5caae8ab4cc26c3f3b1/delay_all_monitors_in_org.ipynb\" target=\"_parent\"><img src=\"https://colab.research.google.com/assets/colab-badge.svg\" alt=\"Open In Colab\"/></a>"
      ]
    },
    {
      "cell_type": "code",
      "execution_count": null,
      "id": "df08e1fb",
      "metadata": {
        "id": "df08e1fb"
      },
      "outputs": [],
      "source": [
        "import getpass\n",
        "import os\n",
        "import whylabs_client\n",
        "from whylabs_client.api import models_api, monitor_api\n",
        "from whylabs_client.model.list_models_response import ListModelsResponse\n",
        "from pprint import pprint"
      ]
    },
    {
      "cell_type": "code",
      "execution_count": null,
      "id": "b85eb2a1",
      "metadata": {
        "id": "b85eb2a1"
      },
      "outputs": [],
      "source": [
        "# set your org-id here - should be something like \"org-xxxx\"\n",
        "print(\"Enter your WhyLabs Org ID\")\n",
        "os.environ[\"WHYLABS_DEFAULT_ORG_ID\"] = \"org-qEZQUE\""
      ]
    },
    {
      "cell_type": "code",
      "execution_count": null,
      "id": "19c1fbef",
      "metadata": {
        "id": "19c1fbef"
      },
      "outputs": [],
      "source": [
        "# set your API key here\n",
        "print(\"Enter your WhyLabs API key\")\n",
        "os.environ[\"WHYLABS_API_KEY\"] = getpass.getpass()\n",
        "\n",
        "print(\"Using API Key ID: \", os.environ[\"WHYLABS_API_KEY\"][0:10])"
      ]
    },
    {
      "cell_type": "code",
      "execution_count": null,
      "id": "be1359e9",
      "metadata": {
        "id": "be1359e9"
      },
      "outputs": [],
      "source": [
        "configuration = whylabs_client.Configuration(host=\"https://api.whylabsapp.com\")\n",
        "configuration.discard_unknown_keys = True"
      ]
    },
    {
      "cell_type": "code",
      "execution_count": null,
      "id": "c9d34a76",
      "metadata": {
        "id": "c9d34a76"
      },
      "outputs": [],
      "source": [
        "configuration.api_key['ApiKeyAuth'] = os.environ[\"WHYLABS_API_KEY\"]"
      ]
    },
    {
      "cell_type": "code",
      "execution_count": null,
      "id": "67cd2f8a",
      "metadata": {
        "id": "67cd2f8a"
      },
      "outputs": [],
      "source": [
        "model2monitors = {}"
      ]
    },
    {
      "cell_type": "code",
      "execution_count": null,
      "id": "e9fcf680",
      "metadata": {
        "id": "e9fcf680"
      },
      "outputs": [],
      "source": [
        "with whylabs_client.ApiClient(configuration) as api_client:\n",
        "    # Create an instance of the API class\n",
        "    models_api_instance = models_api.ModelsApi(api_client)\n",
        "    monitor_api_instance = monitor_api.MonitorApi(api_client)\n",
        "    org_id = os.environ[\"WHYLABS_DEFAULT_ORG_ID\"] # str | Your company's unique organization ID\n",
        "\n",
        "    # example passing only required values which don't have defaults set\n",
        "    try:\n",
        "        # Get a list of all of the model ids for an organization.\n",
        "        models = models_api_instance.list_models(org_id)\n",
        "        for item in models[\"items\"]:\n",
        "            model_id = item['id']\n",
        "            print(model_id)\n",
        "            monitors = monitor_api_instance.get_monitor_config_v3(org_id, model_id)\n",
        "            model2monitors[model_id] = monitors\n",
        "    except whylabs_client.ApiException as e:\n",
        "        print(\"Exception when calling ModelsApi->list_models: %s\\n\" % e)"
      ]
    },
    {
      "cell_type": "markdown",
      "id": "731d80a5",
      "metadata": {
        "id": "731d80a5"
      },
      "source": [
        "## Add dataReadinessDuration parameter to all monitors"
      ]
    },
    {
      "cell_type": "code",
      "execution_count": null,
      "id": "a37f8cbc",
      "metadata": {
        "id": "a37f8cbc"
      },
      "outputs": [],
      "source": [
        "for item in models[\"items\"]:\n",
        "    model_id = item['id']\n",
        "    print(model_id)\n",
        "    monitors = model2monitors[model_id]\n",
        "    for analyzer in monitors[\"analyzers\"]:\n",
        "        analyzer[\"dataReadinessDuration\"] = \"PT6H\"\n",
        "        response = monitor_api_instance.put_analyzer(org_id, model_id, analyzer[\"id\"], body=analyzer)\n",
        "        print(response)"
      ]
    },
    {
      "cell_type": "code",
      "execution_count": null,
      "id": "214c1d72",
      "metadata": {
        "id": "214c1d72"
      },
      "outputs": [],
      "source": []
    }
  ],
  "metadata": {
    "kernelspec": {
      "display_name": "Python 3 (ipykernel)",
      "language": "python",
      "name": "python3"
    },
    "language_info": {
      "codemirror_mode": {
        "name": "ipython",
        "version": 3
      },
      "file_extension": ".py",
      "mimetype": "text/x-python",
      "name": "python",
      "nbconvert_exporter": "python",
      "pygments_lexer": "ipython3",
      "version": "3.11.3"
    },
    "colab": {
      "provenance": [],
      "include_colab_link": true
    }
  },
  "nbformat": 4,
  "nbformat_minor": 5
}