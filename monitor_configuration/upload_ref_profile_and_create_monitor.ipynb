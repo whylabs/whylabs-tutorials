{
  "nbformat": 4,
  "nbformat_minor": 0,
  "metadata": {
    "colab": {
      "provenance": [],
      "authorship_tag": "ABX9TyNiGDzm2onvNXCDRljwwlXc",
      "include_colab_link": true
    },
    "kernelspec": {
      "name": "python3",
      "display_name": "Python 3"
    },
    "language_info": {
      "name": "python"
    }
  },
  "cells": [
    {
      "cell_type": "markdown",
      "metadata": {
        "id": "view-in-github",
        "colab_type": "text"
      },
      "source": [
        "<a href=\"https://colab.research.google.com/gist/natiska/478c2dfeb347f266209e05186fc6e2e5/upload_ref_profile_and_create_monitor.ipynb\" target=\"_parent\"><img src=\"https://colab.research.google.com/assets/colab-badge.svg\" alt=\"Open In Colab\"/></a>"
      ]
    },
    {
      "cell_type": "markdown",
      "source": [
        "# Writing Segmented Reference Profiles and Updating the Monitor Configuration accordingly"
      ],
      "metadata": {
        "id": "f3A4fp5w9di1"
      }
    },
    {
      "cell_type": "code",
      "execution_count": 4,
      "metadata": {
        "id": "qK4aHnER8le3"
      },
      "outputs": [],
      "source": [
        "# Note: you may need to restart the kernel to use updated packages.\n",
        "%pip install -U -q 'whylogs[datasets]'"
      ]
    },
    {
      "cell_type": "markdown",
      "source": [
        "## ✔️ Setting the Environment Variables\n"
      ],
      "metadata": {
        "id": "RFQuke0T9wmF"
      }
    },
    {
      "cell_type": "code",
      "source": [
        "import getpass\n",
        "import os\n",
        "\n",
        "# set your org-id here - should be something like \"org-xxxx\"\n",
        "print(\"Enter your WhyLabs Org ID\")\n",
        "os.environ[\"WHYLABS_DEFAULT_ORG_ID\"] = \"org-qEZQUE\"\n",
        "\n",
        "# set your datased_id (or model_id) here - should be something like \"model-xxxx\"\n",
        "print(\"Enter your WhyLabs Dataset ID\")\n",
        "os.environ[\"WHYLABS_DEFAULT_DATASET_ID\"] = \"model-27\"\n",
        "\n",
        "# set your API key here\n",
        "print(\"Enter your WhyLabs API key\")\n",
        "os.environ[\"WHYLABS_API_KEY\"] = getpass.getpass()\n",
        "\n",
        "print(\"Using API Key ID: \", os.environ[\"WHYLABS_API_KEY\"][0:10])"
      ],
      "metadata": {
        "colab": {
          "base_uri": "https://localhost:8080/"
        },
        "id": "8KsWoTks9xSq",
        "outputId": "649a6fa4-9d78-40af-ccb1-c0529a68abfd"
      },
      "execution_count": 5,
      "outputs": [
        {
          "output_type": "stream",
          "name": "stdout",
          "text": [
            "Enter your WhyLabs Org ID\n",
            "Enter your WhyLabs Dataset ID\n",
            "Enter your WhyLabs API key\n",
            "··········\n",
            "Using API Key ID:  iSnmQQOV6g\n"
          ]
        }
      ]
    },
    {
      "cell_type": "markdown",
      "source": [
        "## Fetching the Data\n",
        "For demonstration, let's use data for transactions from a small retail business:"
      ],
      "metadata": {
        "id": "HC5nt3RxAode"
      }
    },
    {
      "cell_type": "code",
      "source": [
        "import pandas as pd\n",
        "\n",
        "csv_url = \"https://whylabs-public.s3.us-west-2.amazonaws.com/datasets/tour/current.csv\"\n",
        "df = pd.read_csv(csv_url)\n",
        "\n",
        "df.head()"
      ],
      "metadata": {
        "colab": {
          "base_uri": "https://localhost:8080/",
          "height": 302
        },
        "id": "nr3KElhCApCP",
        "outputId": "195927b2-dbf4-425e-8dde-695dba877847"
      },
      "execution_count": 6,
      "outputs": [
        {
          "output_type": "execute_result",
          "data": {
            "text/plain": [
              "  Transaction ID Customer ID  Quantity  Item Price  Total Tax  Total Amount  \\\n",
              "0   T14259136777     C274477         1       148.9    15.6345      164.5345   \n",
              "1    T7313351894     C267568         4        48.1    20.2020      212.6020   \n",
              "2   T37745642681     C267098         1        10.9     1.1445       12.0445   \n",
              "3   T13861409908     C271608         2       135.2    28.3920      298.7920   \n",
              "4   T58956348529     C272484         4       144.3    60.6060      637.8060   \n",
              "\n",
              "       Store Type  Product Category Product Subcategory Gender  \\\n",
              "0        TeleShop       Electronics     Audio and video      F   \n",
              "1  Flagship store  Home and kitchen          Furnishing      M   \n",
              "2  Flagship store          Footwear                Mens      F   \n",
              "3             MBR          Footwear                Mens      F   \n",
              "4        TeleShop          Clothing                Mens      F   \n",
              "\n",
              "  Transaction Type   Age  \n",
              "0         Purchase  37.0  \n",
              "1         Purchase  25.0  \n",
              "2         Purchase  42.0  \n",
              "3         Purchase  43.0  \n",
              "4         Purchase  39.0  "
            ],
            "text/html": [
              "\n",
              "\n",
              "  <div id=\"df-12944258-7918-4ad0-9258-8b60f3e96d6f\">\n",
              "    <div class=\"colab-df-container\">\n",
              "      <div>\n",
              "<style scoped>\n",
              "    .dataframe tbody tr th:only-of-type {\n",
              "        vertical-align: middle;\n",
              "    }\n",
              "\n",
              "    .dataframe tbody tr th {\n",
              "        vertical-align: top;\n",
              "    }\n",
              "\n",
              "    .dataframe thead th {\n",
              "        text-align: right;\n",
              "    }\n",
              "</style>\n",
              "<table border=\"1\" class=\"dataframe\">\n",
              "  <thead>\n",
              "    <tr style=\"text-align: right;\">\n",
              "      <th></th>\n",
              "      <th>Transaction ID</th>\n",
              "      <th>Customer ID</th>\n",
              "      <th>Quantity</th>\n",
              "      <th>Item Price</th>\n",
              "      <th>Total Tax</th>\n",
              "      <th>Total Amount</th>\n",
              "      <th>Store Type</th>\n",
              "      <th>Product Category</th>\n",
              "      <th>Product Subcategory</th>\n",
              "      <th>Gender</th>\n",
              "      <th>Transaction Type</th>\n",
              "      <th>Age</th>\n",
              "    </tr>\n",
              "  </thead>\n",
              "  <tbody>\n",
              "    <tr>\n",
              "      <th>0</th>\n",
              "      <td>T14259136777</td>\n",
              "      <td>C274477</td>\n",
              "      <td>1</td>\n",
              "      <td>148.9</td>\n",
              "      <td>15.6345</td>\n",
              "      <td>164.5345</td>\n",
              "      <td>TeleShop</td>\n",
              "      <td>Electronics</td>\n",
              "      <td>Audio and video</td>\n",
              "      <td>F</td>\n",
              "      <td>Purchase</td>\n",
              "      <td>37.0</td>\n",
              "    </tr>\n",
              "    <tr>\n",
              "      <th>1</th>\n",
              "      <td>T7313351894</td>\n",
              "      <td>C267568</td>\n",
              "      <td>4</td>\n",
              "      <td>48.1</td>\n",
              "      <td>20.2020</td>\n",
              "      <td>212.6020</td>\n",
              "      <td>Flagship store</td>\n",
              "      <td>Home and kitchen</td>\n",
              "      <td>Furnishing</td>\n",
              "      <td>M</td>\n",
              "      <td>Purchase</td>\n",
              "      <td>25.0</td>\n",
              "    </tr>\n",
              "    <tr>\n",
              "      <th>2</th>\n",
              "      <td>T37745642681</td>\n",
              "      <td>C267098</td>\n",
              "      <td>1</td>\n",
              "      <td>10.9</td>\n",
              "      <td>1.1445</td>\n",
              "      <td>12.0445</td>\n",
              "      <td>Flagship store</td>\n",
              "      <td>Footwear</td>\n",
              "      <td>Mens</td>\n",
              "      <td>F</td>\n",
              "      <td>Purchase</td>\n",
              "      <td>42.0</td>\n",
              "    </tr>\n",
              "    <tr>\n",
              "      <th>3</th>\n",
              "      <td>T13861409908</td>\n",
              "      <td>C271608</td>\n",
              "      <td>2</td>\n",
              "      <td>135.2</td>\n",
              "      <td>28.3920</td>\n",
              "      <td>298.7920</td>\n",
              "      <td>MBR</td>\n",
              "      <td>Footwear</td>\n",
              "      <td>Mens</td>\n",
              "      <td>F</td>\n",
              "      <td>Purchase</td>\n",
              "      <td>43.0</td>\n",
              "    </tr>\n",
              "    <tr>\n",
              "      <th>4</th>\n",
              "      <td>T58956348529</td>\n",
              "      <td>C272484</td>\n",
              "      <td>4</td>\n",
              "      <td>144.3</td>\n",
              "      <td>60.6060</td>\n",
              "      <td>637.8060</td>\n",
              "      <td>TeleShop</td>\n",
              "      <td>Clothing</td>\n",
              "      <td>Mens</td>\n",
              "      <td>F</td>\n",
              "      <td>Purchase</td>\n",
              "      <td>39.0</td>\n",
              "    </tr>\n",
              "  </tbody>\n",
              "</table>\n",
              "</div>\n",
              "      <button class=\"colab-df-convert\" onclick=\"convertToInteractive('df-12944258-7918-4ad0-9258-8b60f3e96d6f')\"\n",
              "              title=\"Convert this dataframe to an interactive table.\"\n",
              "              style=\"display:none;\">\n",
              "\n",
              "  <svg xmlns=\"http://www.w3.org/2000/svg\" height=\"24px\"viewBox=\"0 0 24 24\"\n",
              "       width=\"24px\">\n",
              "    <path d=\"M0 0h24v24H0V0z\" fill=\"none\"/>\n",
              "    <path d=\"M18.56 5.44l.94 2.06.94-2.06 2.06-.94-2.06-.94-.94-2.06-.94 2.06-2.06.94zm-11 1L8.5 8.5l.94-2.06 2.06-.94-2.06-.94L8.5 2.5l-.94 2.06-2.06.94zm10 10l.94 2.06.94-2.06 2.06-.94-2.06-.94-.94-2.06-.94 2.06-2.06.94z\"/><path d=\"M17.41 7.96l-1.37-1.37c-.4-.4-.92-.59-1.43-.59-.52 0-1.04.2-1.43.59L10.3 9.45l-7.72 7.72c-.78.78-.78 2.05 0 2.83L4 21.41c.39.39.9.59 1.41.59.51 0 1.02-.2 1.41-.59l7.78-7.78 2.81-2.81c.8-.78.8-2.07 0-2.86zM5.41 20L4 18.59l7.72-7.72 1.47 1.35L5.41 20z\"/>\n",
              "  </svg>\n",
              "      </button>\n",
              "\n",
              "\n",
              "\n",
              "    <div id=\"df-375ebdcf-bd4c-47f4-817b-2f92d208c91d\">\n",
              "      <button class=\"colab-df-quickchart\" onclick=\"quickchart('df-375ebdcf-bd4c-47f4-817b-2f92d208c91d')\"\n",
              "              title=\"Suggest charts.\"\n",
              "              style=\"display:none;\">\n",
              "\n",
              "<svg xmlns=\"http://www.w3.org/2000/svg\" height=\"24px\"viewBox=\"0 0 24 24\"\n",
              "     width=\"24px\">\n",
              "    <g>\n",
              "        <path d=\"M19 3H5c-1.1 0-2 .9-2 2v14c0 1.1.9 2 2 2h14c1.1 0 2-.9 2-2V5c0-1.1-.9-2-2-2zM9 17H7v-7h2v7zm4 0h-2V7h2v10zm4 0h-2v-4h2v4z\"/>\n",
              "    </g>\n",
              "</svg>\n",
              "      </button>\n",
              "    </div>\n",
              "\n",
              "<style>\n",
              "  .colab-df-quickchart {\n",
              "    background-color: #E8F0FE;\n",
              "    border: none;\n",
              "    border-radius: 50%;\n",
              "    cursor: pointer;\n",
              "    display: none;\n",
              "    fill: #1967D2;\n",
              "    height: 32px;\n",
              "    padding: 0 0 0 0;\n",
              "    width: 32px;\n",
              "  }\n",
              "\n",
              "  .colab-df-quickchart:hover {\n",
              "    background-color: #E2EBFA;\n",
              "    box-shadow: 0px 1px 2px rgba(60, 64, 67, 0.3), 0px 1px 3px 1px rgba(60, 64, 67, 0.15);\n",
              "    fill: #174EA6;\n",
              "  }\n",
              "\n",
              "  [theme=dark] .colab-df-quickchart {\n",
              "    background-color: #3B4455;\n",
              "    fill: #D2E3FC;\n",
              "  }\n",
              "\n",
              "  [theme=dark] .colab-df-quickchart:hover {\n",
              "    background-color: #434B5C;\n",
              "    box-shadow: 0px 1px 3px 1px rgba(0, 0, 0, 0.15);\n",
              "    filter: drop-shadow(0px 1px 2px rgba(0, 0, 0, 0.3));\n",
              "    fill: #FFFFFF;\n",
              "  }\n",
              "</style>\n",
              "\n",
              "    <script>\n",
              "      async function quickchart(key) {\n",
              "        const containerElement = document.querySelector('#' + key);\n",
              "        const charts = await google.colab.kernel.invokeFunction(\n",
              "            'suggestCharts', [key], {});\n",
              "      }\n",
              "    </script>\n",
              "\n",
              "      <script>\n",
              "\n",
              "function displayQuickchartButton(domScope) {\n",
              "  let quickchartButtonEl =\n",
              "    domScope.querySelector('#df-375ebdcf-bd4c-47f4-817b-2f92d208c91d button.colab-df-quickchart');\n",
              "  quickchartButtonEl.style.display =\n",
              "    google.colab.kernel.accessAllowed ? 'block' : 'none';\n",
              "}\n",
              "\n",
              "        displayQuickchartButton(document);\n",
              "      </script>\n",
              "      <style>\n",
              "    .colab-df-container {\n",
              "      display:flex;\n",
              "      flex-wrap:wrap;\n",
              "      gap: 12px;\n",
              "    }\n",
              "\n",
              "    .colab-df-convert {\n",
              "      background-color: #E8F0FE;\n",
              "      border: none;\n",
              "      border-radius: 50%;\n",
              "      cursor: pointer;\n",
              "      display: none;\n",
              "      fill: #1967D2;\n",
              "      height: 32px;\n",
              "      padding: 0 0 0 0;\n",
              "      width: 32px;\n",
              "    }\n",
              "\n",
              "    .colab-df-convert:hover {\n",
              "      background-color: #E2EBFA;\n",
              "      box-shadow: 0px 1px 2px rgba(60, 64, 67, 0.3), 0px 1px 3px 1px rgba(60, 64, 67, 0.15);\n",
              "      fill: #174EA6;\n",
              "    }\n",
              "\n",
              "    [theme=dark] .colab-df-convert {\n",
              "      background-color: #3B4455;\n",
              "      fill: #D2E3FC;\n",
              "    }\n",
              "\n",
              "    [theme=dark] .colab-df-convert:hover {\n",
              "      background-color: #434B5C;\n",
              "      box-shadow: 0px 1px 3px 1px rgba(0, 0, 0, 0.15);\n",
              "      filter: drop-shadow(0px 1px 2px rgba(0, 0, 0, 0.3));\n",
              "      fill: #FFFFFF;\n",
              "    }\n",
              "  </style>\n",
              "\n",
              "      <script>\n",
              "        const buttonEl =\n",
              "          document.querySelector('#df-12944258-7918-4ad0-9258-8b60f3e96d6f button.colab-df-convert');\n",
              "        buttonEl.style.display =\n",
              "          google.colab.kernel.accessAllowed ? 'block' : 'none';\n",
              "\n",
              "        async function convertToInteractive(key) {\n",
              "          const element = document.querySelector('#df-12944258-7918-4ad0-9258-8b60f3e96d6f');\n",
              "          const dataTable =\n",
              "            await google.colab.kernel.invokeFunction('convertToInteractive',\n",
              "                                                     [key], {});\n",
              "          if (!dataTable) return;\n",
              "\n",
              "          const docLinkHtml = 'Like what you see? Visit the ' +\n",
              "            '<a target=\"_blank\" href=https://colab.research.google.com/notebooks/data_table.ipynb>data table notebook</a>'\n",
              "            + ' to learn more about interactive tables.';\n",
              "          element.innerHTML = '';\n",
              "          dataTable['output_type'] = 'display_data';\n",
              "          await google.colab.output.renderOutput(dataTable, element);\n",
              "          const docLink = document.createElement('div');\n",
              "          docLink.innerHTML = docLinkHtml;\n",
              "          element.appendChild(docLink);\n",
              "        }\n",
              "      </script>\n",
              "    </div>\n",
              "  </div>\n"
            ]
          },
          "metadata": {},
          "execution_count": 6
        }
      ]
    },
    {
      "cell_type": "markdown",
      "source": [
        "\n",
        "## Defining segments"
      ],
      "metadata": {
        "id": "kfYhlMe5EszN"
      }
    },
    {
      "cell_type": "markdown",
      "source": [
        "TO DO: specify the column to segment the data on."
      ],
      "metadata": {
        "id": "EOfqepg1OMkG"
      }
    },
    {
      "cell_type": "code",
      "source": [
        "df[\"Store Type\"].value_counts()"
      ],
      "metadata": {
        "colab": {
          "base_uri": "https://localhost:8080/"
        },
        "id": "cs8Aqdu-EtjR",
        "outputId": "d7b6471f-1c96-4e2b-d580-76279c211b91"
      },
      "execution_count": 7,
      "outputs": [
        {
          "output_type": "execute_result",
          "data": {
            "text/plain": [
              "e-Shop            392\n",
              "TeleShop          206\n",
              "Flagship store    175\n",
              "MBR               172\n",
              "Name: Store Type, dtype: int64"
            ]
          },
          "metadata": {},
          "execution_count": 7
        }
      ]
    },
    {
      "cell_type": "code",
      "source": [
        "segmentation_colum = \"Store Type\""
      ],
      "metadata": {
        "id": "xw5V7mvjOTrV"
      },
      "execution_count": 8,
      "outputs": []
    },
    {
      "cell_type": "code",
      "source": [
        "from whylogs.core.segmentation_partition import segment_on_column\n",
        "\n",
        "column_segments = segment_on_column(segmentation_colum)"
      ],
      "metadata": {
        "id": "zPqN0xECEx0D"
      },
      "execution_count": 9,
      "outputs": []
    },
    {
      "cell_type": "markdown",
      "source": [
        "## 📊 Profiling the Data\n",
        "\n",
        "Let's profile the data with whylogs:"
      ],
      "metadata": {
        "id": "TdUqvHreE5zi"
      }
    },
    {
      "cell_type": "code",
      "source": [
        "import whylogs as why\n",
        "from whylogs.core.schema import DatasetSchema\n",
        "from datetime import datetime, timezone\n",
        "\n",
        "current_date = datetime.now(timezone.utc)\n",
        "results = why.log(df, schema=DatasetSchema(segments=column_segments))"
      ],
      "metadata": {
        "id": "_WGTXEM7E6WL"
      },
      "execution_count": 10,
      "outputs": []
    },
    {
      "cell_type": "code",
      "source": [
        "results.count"
      ],
      "metadata": {
        "colab": {
          "base_uri": "https://localhost:8080/"
        },
        "id": "LKFa2JvJcAdd",
        "outputId": "7d5d4032-ae6a-43e9-c576-0918f294b767"
      },
      "execution_count": 12,
      "outputs": [
        {
          "output_type": "execute_result",
          "data": {
            "text/plain": [
              "4"
            ]
          },
          "metadata": {},
          "execution_count": 12
        }
      ]
    },
    {
      "cell_type": "code",
      "source": [
        "first_segment = results.segments()[0]\n",
        "segmented_profile = results.profile(first_segment)\n",
        "print(\"Profile view for segment {}\".format(first_segment.key))\n",
        "segmented_profile.view().to_pandas()"
      ],
      "metadata": {
        "colab": {
          "base_uri": "https://localhost:8080/",
          "height": 724
        },
        "id": "S7_qHp6xcSya",
        "outputId": "9f30862d-c4bb-4667-c436-5660b9657e2c"
      },
      "execution_count": 13,
      "outputs": [
        {
          "output_type": "stream",
          "name": "stdout",
          "text": [
            "Profile view for segment ('Flagship store',)\n"
          ]
        },
        {
          "output_type": "execute_result",
          "data": {
            "text/plain": [
              "                     cardinality/est  cardinality/lower_1  \\\n",
              "column                                                      \n",
              "Age                        24.000001                 24.0   \n",
              "Customer ID               171.000072                171.0   \n",
              "Gender                      2.000000                  2.0   \n",
              "Item Price                165.000067                165.0   \n",
              "Product Category            6.000000                  6.0   \n",
              "Product Subcategory        18.000001                 18.0   \n",
              "Quantity                   10.000000                 10.0   \n",
              "Store Type                  1.000000                  1.0   \n",
              "Total Amount              170.000071                170.0   \n",
              "Total Tax                 168.000070                168.0   \n",
              "Transaction ID            174.000075                174.0   \n",
              "Transaction Type            2.000000                  2.0   \n",
              "\n",
              "                     cardinality/upper_1  counts/inf  counts/n  counts/nan  \\\n",
              "column                                                                       \n",
              "Age                            24.001200           0       175           0   \n",
              "Customer ID                   171.008610           0       175           0   \n",
              "Gender                          2.000100           0       175           0   \n",
              "Item Price                    165.008306           0       175           0   \n",
              "Product Category                6.000300           0       175           0   \n",
              "Product Subcategory            18.000899           0       175           0   \n",
              "Quantity                       10.000500           0       175           0   \n",
              "Store Type                      1.000050           0       175           0   \n",
              "Total Amount                  170.008559           0       175           0   \n",
              "Total Tax                     168.008458           0       175           0   \n",
              "Transaction ID                174.008762           0       175           0   \n",
              "Transaction Type                2.000100           0       175           0   \n",
              "\n",
              "                     counts/null  distribution/max  distribution/mean  \\\n",
              "column                                                                  \n",
              "Age                            0             43.00          30.754286   \n",
              "Customer ID                    0               NaN           0.000000   \n",
              "Gender                         0               NaN           0.000000   \n",
              "Item Price                     0            150.00          80.862286   \n",
              "Product Category               0               NaN           0.000000   \n",
              "Product Subcategory            0               NaN           0.000000   \n",
              "Quantity                       0              5.00           2.291429   \n",
              "Store Type                     0               NaN           0.000000   \n",
              "Total Amount                   0            806.65         193.382577   \n",
              "Total Tax                      0             77.07          25.440240   \n",
              "Transaction ID                 0               NaN           0.000000   \n",
              "Transaction Type               0               NaN           0.000000   \n",
              "\n",
              "                     distribution/median  ...                type  \\\n",
              "column                                    ...                       \n",
              "Age                               29.000  ...  SummaryType.COLUMN   \n",
              "Customer ID                          NaN  ...  SummaryType.COLUMN   \n",
              "Gender                               NaN  ...  SummaryType.COLUMN   \n",
              "Item Price                        81.800  ...  SummaryType.COLUMN   \n",
              "Product Category                     NaN  ...  SummaryType.COLUMN   \n",
              "Product Subcategory                  NaN  ...  SummaryType.COLUMN   \n",
              "Quantity                           3.000  ...  SummaryType.COLUMN   \n",
              "Store Type                           NaN  ...  SummaryType.COLUMN   \n",
              "Total Amount                     170.612  ...  SummaryType.COLUMN   \n",
              "Total Tax                         20.034  ...  SummaryType.COLUMN   \n",
              "Transaction ID                       NaN  ...  SummaryType.COLUMN   \n",
              "Transaction Type                     NaN  ...  SummaryType.COLUMN   \n",
              "\n",
              "                     types/boolean  types/fractional  types/integral  \\\n",
              "column                                                                 \n",
              "Age                              0               175               0   \n",
              "Customer ID                      0                 0               0   \n",
              "Gender                           0                 0               0   \n",
              "Item Price                       0               175               0   \n",
              "Product Category                 0                 0               0   \n",
              "Product Subcategory              0                 0               0   \n",
              "Quantity                         0                 0             175   \n",
              "Store Type                       0                 0               0   \n",
              "Total Amount                     0               175               0   \n",
              "Total Tax                        0               175               0   \n",
              "Transaction ID                   0                 0               0   \n",
              "Transaction Type                 0                 0               0   \n",
              "\n",
              "                     types/object  types/string  types/tensor  \\\n",
              "column                                                          \n",
              "Age                             0             0             0   \n",
              "Customer ID                     0           175             0   \n",
              "Gender                          0           175             0   \n",
              "Item Price                      0             0             0   \n",
              "Product Category                0           175             0   \n",
              "Product Subcategory             0           175             0   \n",
              "Quantity                        0             0             0   \n",
              "Store Type                      0           175             0   \n",
              "Total Amount                    0             0             0   \n",
              "Total Tax                       0             0             0   \n",
              "Transaction ID                  0           175             0   \n",
              "Transaction Type                0           175             0   \n",
              "\n",
              "                                       frequent_items/frequent_strings  \\\n",
              "column                                                                   \n",
              "Age                                                                NaN   \n",
              "Customer ID          [FrequentItem(value='C270833', est=2, upper=2,...   \n",
              "Gender               [FrequentItem(value='F', est=91, upper=91, low...   \n",
              "Item Price                                                         NaN   \n",
              "Product Category     [FrequentItem(value='Books', est=42, upper=42,...   \n",
              "Product Subcategory  [FrequentItem(value='Mens', est=23, upper=23, ...   \n",
              "Quantity             [FrequentItem(value='2', est=35, upper=35, low...   \n",
              "Store Type           [FrequentItem(value='Flagship store', est=175,...   \n",
              "Total Amount                                                       NaN   \n",
              "Total Tax                                                          NaN   \n",
              "Transaction ID       [FrequentItem(value='T99341082862', est=2, upp...   \n",
              "Transaction Type     [FrequentItem(value='Purchase', est=157, upper...   \n",
              "\n",
              "                     ints/max  ints/min  \n",
              "column                                   \n",
              "Age                       NaN       NaN  \n",
              "Customer ID               NaN       NaN  \n",
              "Gender                    NaN       NaN  \n",
              "Item Price                NaN       NaN  \n",
              "Product Category          NaN       NaN  \n",
              "Product Subcategory       NaN       NaN  \n",
              "Quantity                  5.0      -5.0  \n",
              "Store Type                NaN       NaN  \n",
              "Total Amount              NaN       NaN  \n",
              "Total Tax                 NaN       NaN  \n",
              "Transaction ID            NaN       NaN  \n",
              "Transaction Type          NaN       NaN  \n",
              "\n",
              "[12 rows x 31 columns]"
            ],
            "text/html": [
              "\n",
              "\n",
              "  <div id=\"df-91f48d68-42fa-456a-896d-3f581289ba50\">\n",
              "    <div class=\"colab-df-container\">\n",
              "      <div>\n",
              "<style scoped>\n",
              "    .dataframe tbody tr th:only-of-type {\n",
              "        vertical-align: middle;\n",
              "    }\n",
              "\n",
              "    .dataframe tbody tr th {\n",
              "        vertical-align: top;\n",
              "    }\n",
              "\n",
              "    .dataframe thead th {\n",
              "        text-align: right;\n",
              "    }\n",
              "</style>\n",
              "<table border=\"1\" class=\"dataframe\">\n",
              "  <thead>\n",
              "    <tr style=\"text-align: right;\">\n",
              "      <th></th>\n",
              "      <th>cardinality/est</th>\n",
              "      <th>cardinality/lower_1</th>\n",
              "      <th>cardinality/upper_1</th>\n",
              "      <th>counts/inf</th>\n",
              "      <th>counts/n</th>\n",
              "      <th>counts/nan</th>\n",
              "      <th>counts/null</th>\n",
              "      <th>distribution/max</th>\n",
              "      <th>distribution/mean</th>\n",
              "      <th>distribution/median</th>\n",
              "      <th>...</th>\n",
              "      <th>type</th>\n",
              "      <th>types/boolean</th>\n",
              "      <th>types/fractional</th>\n",
              "      <th>types/integral</th>\n",
              "      <th>types/object</th>\n",
              "      <th>types/string</th>\n",
              "      <th>types/tensor</th>\n",
              "      <th>frequent_items/frequent_strings</th>\n",
              "      <th>ints/max</th>\n",
              "      <th>ints/min</th>\n",
              "    </tr>\n",
              "    <tr>\n",
              "      <th>column</th>\n",
              "      <th></th>\n",
              "      <th></th>\n",
              "      <th></th>\n",
              "      <th></th>\n",
              "      <th></th>\n",
              "      <th></th>\n",
              "      <th></th>\n",
              "      <th></th>\n",
              "      <th></th>\n",
              "      <th></th>\n",
              "      <th></th>\n",
              "      <th></th>\n",
              "      <th></th>\n",
              "      <th></th>\n",
              "      <th></th>\n",
              "      <th></th>\n",
              "      <th></th>\n",
              "      <th></th>\n",
              "      <th></th>\n",
              "      <th></th>\n",
              "      <th></th>\n",
              "    </tr>\n",
              "  </thead>\n",
              "  <tbody>\n",
              "    <tr>\n",
              "      <th>Age</th>\n",
              "      <td>24.000001</td>\n",
              "      <td>24.0</td>\n",
              "      <td>24.001200</td>\n",
              "      <td>0</td>\n",
              "      <td>175</td>\n",
              "      <td>0</td>\n",
              "      <td>0</td>\n",
              "      <td>43.00</td>\n",
              "      <td>30.754286</td>\n",
              "      <td>29.000</td>\n",
              "      <td>...</td>\n",
              "      <td>SummaryType.COLUMN</td>\n",
              "      <td>0</td>\n",
              "      <td>175</td>\n",
              "      <td>0</td>\n",
              "      <td>0</td>\n",
              "      <td>0</td>\n",
              "      <td>0</td>\n",
              "      <td>NaN</td>\n",
              "      <td>NaN</td>\n",
              "      <td>NaN</td>\n",
              "    </tr>\n",
              "    <tr>\n",
              "      <th>Customer ID</th>\n",
              "      <td>171.000072</td>\n",
              "      <td>171.0</td>\n",
              "      <td>171.008610</td>\n",
              "      <td>0</td>\n",
              "      <td>175</td>\n",
              "      <td>0</td>\n",
              "      <td>0</td>\n",
              "      <td>NaN</td>\n",
              "      <td>0.000000</td>\n",
              "      <td>NaN</td>\n",
              "      <td>...</td>\n",
              "      <td>SummaryType.COLUMN</td>\n",
              "      <td>0</td>\n",
              "      <td>0</td>\n",
              "      <td>0</td>\n",
              "      <td>0</td>\n",
              "      <td>175</td>\n",
              "      <td>0</td>\n",
              "      <td>[FrequentItem(value='C270833', est=2, upper=2,...</td>\n",
              "      <td>NaN</td>\n",
              "      <td>NaN</td>\n",
              "    </tr>\n",
              "    <tr>\n",
              "      <th>Gender</th>\n",
              "      <td>2.000000</td>\n",
              "      <td>2.0</td>\n",
              "      <td>2.000100</td>\n",
              "      <td>0</td>\n",
              "      <td>175</td>\n",
              "      <td>0</td>\n",
              "      <td>0</td>\n",
              "      <td>NaN</td>\n",
              "      <td>0.000000</td>\n",
              "      <td>NaN</td>\n",
              "      <td>...</td>\n",
              "      <td>SummaryType.COLUMN</td>\n",
              "      <td>0</td>\n",
              "      <td>0</td>\n",
              "      <td>0</td>\n",
              "      <td>0</td>\n",
              "      <td>175</td>\n",
              "      <td>0</td>\n",
              "      <td>[FrequentItem(value='F', est=91, upper=91, low...</td>\n",
              "      <td>NaN</td>\n",
              "      <td>NaN</td>\n",
              "    </tr>\n",
              "    <tr>\n",
              "      <th>Item Price</th>\n",
              "      <td>165.000067</td>\n",
              "      <td>165.0</td>\n",
              "      <td>165.008306</td>\n",
              "      <td>0</td>\n",
              "      <td>175</td>\n",
              "      <td>0</td>\n",
              "      <td>0</td>\n",
              "      <td>150.00</td>\n",
              "      <td>80.862286</td>\n",
              "      <td>81.800</td>\n",
              "      <td>...</td>\n",
              "      <td>SummaryType.COLUMN</td>\n",
              "      <td>0</td>\n",
              "      <td>175</td>\n",
              "      <td>0</td>\n",
              "      <td>0</td>\n",
              "      <td>0</td>\n",
              "      <td>0</td>\n",
              "      <td>NaN</td>\n",
              "      <td>NaN</td>\n",
              "      <td>NaN</td>\n",
              "    </tr>\n",
              "    <tr>\n",
              "      <th>Product Category</th>\n",
              "      <td>6.000000</td>\n",
              "      <td>6.0</td>\n",
              "      <td>6.000300</td>\n",
              "      <td>0</td>\n",
              "      <td>175</td>\n",
              "      <td>0</td>\n",
              "      <td>0</td>\n",
              "      <td>NaN</td>\n",
              "      <td>0.000000</td>\n",
              "      <td>NaN</td>\n",
              "      <td>...</td>\n",
              "      <td>SummaryType.COLUMN</td>\n",
              "      <td>0</td>\n",
              "      <td>0</td>\n",
              "      <td>0</td>\n",
              "      <td>0</td>\n",
              "      <td>175</td>\n",
              "      <td>0</td>\n",
              "      <td>[FrequentItem(value='Books', est=42, upper=42,...</td>\n",
              "      <td>NaN</td>\n",
              "      <td>NaN</td>\n",
              "    </tr>\n",
              "    <tr>\n",
              "      <th>Product Subcategory</th>\n",
              "      <td>18.000001</td>\n",
              "      <td>18.0</td>\n",
              "      <td>18.000899</td>\n",
              "      <td>0</td>\n",
              "      <td>175</td>\n",
              "      <td>0</td>\n",
              "      <td>0</td>\n",
              "      <td>NaN</td>\n",
              "      <td>0.000000</td>\n",
              "      <td>NaN</td>\n",
              "      <td>...</td>\n",
              "      <td>SummaryType.COLUMN</td>\n",
              "      <td>0</td>\n",
              "      <td>0</td>\n",
              "      <td>0</td>\n",
              "      <td>0</td>\n",
              "      <td>175</td>\n",
              "      <td>0</td>\n",
              "      <td>[FrequentItem(value='Mens', est=23, upper=23, ...</td>\n",
              "      <td>NaN</td>\n",
              "      <td>NaN</td>\n",
              "    </tr>\n",
              "    <tr>\n",
              "      <th>Quantity</th>\n",
              "      <td>10.000000</td>\n",
              "      <td>10.0</td>\n",
              "      <td>10.000500</td>\n",
              "      <td>0</td>\n",
              "      <td>175</td>\n",
              "      <td>0</td>\n",
              "      <td>0</td>\n",
              "      <td>5.00</td>\n",
              "      <td>2.291429</td>\n",
              "      <td>3.000</td>\n",
              "      <td>...</td>\n",
              "      <td>SummaryType.COLUMN</td>\n",
              "      <td>0</td>\n",
              "      <td>0</td>\n",
              "      <td>175</td>\n",
              "      <td>0</td>\n",
              "      <td>0</td>\n",
              "      <td>0</td>\n",
              "      <td>[FrequentItem(value='2', est=35, upper=35, low...</td>\n",
              "      <td>5.0</td>\n",
              "      <td>-5.0</td>\n",
              "    </tr>\n",
              "    <tr>\n",
              "      <th>Store Type</th>\n",
              "      <td>1.000000</td>\n",
              "      <td>1.0</td>\n",
              "      <td>1.000050</td>\n",
              "      <td>0</td>\n",
              "      <td>175</td>\n",
              "      <td>0</td>\n",
              "      <td>0</td>\n",
              "      <td>NaN</td>\n",
              "      <td>0.000000</td>\n",
              "      <td>NaN</td>\n",
              "      <td>...</td>\n",
              "      <td>SummaryType.COLUMN</td>\n",
              "      <td>0</td>\n",
              "      <td>0</td>\n",
              "      <td>0</td>\n",
              "      <td>0</td>\n",
              "      <td>175</td>\n",
              "      <td>0</td>\n",
              "      <td>[FrequentItem(value='Flagship store', est=175,...</td>\n",
              "      <td>NaN</td>\n",
              "      <td>NaN</td>\n",
              "    </tr>\n",
              "    <tr>\n",
              "      <th>Total Amount</th>\n",
              "      <td>170.000071</td>\n",
              "      <td>170.0</td>\n",
              "      <td>170.008559</td>\n",
              "      <td>0</td>\n",
              "      <td>175</td>\n",
              "      <td>0</td>\n",
              "      <td>0</td>\n",
              "      <td>806.65</td>\n",
              "      <td>193.382577</td>\n",
              "      <td>170.612</td>\n",
              "      <td>...</td>\n",
              "      <td>SummaryType.COLUMN</td>\n",
              "      <td>0</td>\n",
              "      <td>175</td>\n",
              "      <td>0</td>\n",
              "      <td>0</td>\n",
              "      <td>0</td>\n",
              "      <td>0</td>\n",
              "      <td>NaN</td>\n",
              "      <td>NaN</td>\n",
              "      <td>NaN</td>\n",
              "    </tr>\n",
              "    <tr>\n",
              "      <th>Total Tax</th>\n",
              "      <td>168.000070</td>\n",
              "      <td>168.0</td>\n",
              "      <td>168.008458</td>\n",
              "      <td>0</td>\n",
              "      <td>175</td>\n",
              "      <td>0</td>\n",
              "      <td>0</td>\n",
              "      <td>77.07</td>\n",
              "      <td>25.440240</td>\n",
              "      <td>20.034</td>\n",
              "      <td>...</td>\n",
              "      <td>SummaryType.COLUMN</td>\n",
              "      <td>0</td>\n",
              "      <td>175</td>\n",
              "      <td>0</td>\n",
              "      <td>0</td>\n",
              "      <td>0</td>\n",
              "      <td>0</td>\n",
              "      <td>NaN</td>\n",
              "      <td>NaN</td>\n",
              "      <td>NaN</td>\n",
              "    </tr>\n",
              "    <tr>\n",
              "      <th>Transaction ID</th>\n",
              "      <td>174.000075</td>\n",
              "      <td>174.0</td>\n",
              "      <td>174.008762</td>\n",
              "      <td>0</td>\n",
              "      <td>175</td>\n",
              "      <td>0</td>\n",
              "      <td>0</td>\n",
              "      <td>NaN</td>\n",
              "      <td>0.000000</td>\n",
              "      <td>NaN</td>\n",
              "      <td>...</td>\n",
              "      <td>SummaryType.COLUMN</td>\n",
              "      <td>0</td>\n",
              "      <td>0</td>\n",
              "      <td>0</td>\n",
              "      <td>0</td>\n",
              "      <td>175</td>\n",
              "      <td>0</td>\n",
              "      <td>[FrequentItem(value='T99341082862', est=2, upp...</td>\n",
              "      <td>NaN</td>\n",
              "      <td>NaN</td>\n",
              "    </tr>\n",
              "    <tr>\n",
              "      <th>Transaction Type</th>\n",
              "      <td>2.000000</td>\n",
              "      <td>2.0</td>\n",
              "      <td>2.000100</td>\n",
              "      <td>0</td>\n",
              "      <td>175</td>\n",
              "      <td>0</td>\n",
              "      <td>0</td>\n",
              "      <td>NaN</td>\n",
              "      <td>0.000000</td>\n",
              "      <td>NaN</td>\n",
              "      <td>...</td>\n",
              "      <td>SummaryType.COLUMN</td>\n",
              "      <td>0</td>\n",
              "      <td>0</td>\n",
              "      <td>0</td>\n",
              "      <td>0</td>\n",
              "      <td>175</td>\n",
              "      <td>0</td>\n",
              "      <td>[FrequentItem(value='Purchase', est=157, upper...</td>\n",
              "      <td>NaN</td>\n",
              "      <td>NaN</td>\n",
              "    </tr>\n",
              "  </tbody>\n",
              "</table>\n",
              "<p>12 rows × 31 columns</p>\n",
              "</div>\n",
              "      <button class=\"colab-df-convert\" onclick=\"convertToInteractive('df-91f48d68-42fa-456a-896d-3f581289ba50')\"\n",
              "              title=\"Convert this dataframe to an interactive table.\"\n",
              "              style=\"display:none;\">\n",
              "\n",
              "  <svg xmlns=\"http://www.w3.org/2000/svg\" height=\"24px\"viewBox=\"0 0 24 24\"\n",
              "       width=\"24px\">\n",
              "    <path d=\"M0 0h24v24H0V0z\" fill=\"none\"/>\n",
              "    <path d=\"M18.56 5.44l.94 2.06.94-2.06 2.06-.94-2.06-.94-.94-2.06-.94 2.06-2.06.94zm-11 1L8.5 8.5l.94-2.06 2.06-.94-2.06-.94L8.5 2.5l-.94 2.06-2.06.94zm10 10l.94 2.06.94-2.06 2.06-.94-2.06-.94-.94-2.06-.94 2.06-2.06.94z\"/><path d=\"M17.41 7.96l-1.37-1.37c-.4-.4-.92-.59-1.43-.59-.52 0-1.04.2-1.43.59L10.3 9.45l-7.72 7.72c-.78.78-.78 2.05 0 2.83L4 21.41c.39.39.9.59 1.41.59.51 0 1.02-.2 1.41-.59l7.78-7.78 2.81-2.81c.8-.78.8-2.07 0-2.86zM5.41 20L4 18.59l7.72-7.72 1.47 1.35L5.41 20z\"/>\n",
              "  </svg>\n",
              "      </button>\n",
              "\n",
              "\n",
              "\n",
              "    <div id=\"df-8a403160-be3c-4f15-9e3d-e828351fe7f2\">\n",
              "      <button class=\"colab-df-quickchart\" onclick=\"quickchart('df-8a403160-be3c-4f15-9e3d-e828351fe7f2')\"\n",
              "              title=\"Suggest charts.\"\n",
              "              style=\"display:none;\">\n",
              "\n",
              "<svg xmlns=\"http://www.w3.org/2000/svg\" height=\"24px\"viewBox=\"0 0 24 24\"\n",
              "     width=\"24px\">\n",
              "    <g>\n",
              "        <path d=\"M19 3H5c-1.1 0-2 .9-2 2v14c0 1.1.9 2 2 2h14c1.1 0 2-.9 2-2V5c0-1.1-.9-2-2-2zM9 17H7v-7h2v7zm4 0h-2V7h2v10zm4 0h-2v-4h2v4z\"/>\n",
              "    </g>\n",
              "</svg>\n",
              "      </button>\n",
              "    </div>\n",
              "\n",
              "<style>\n",
              "  .colab-df-quickchart {\n",
              "    background-color: #E8F0FE;\n",
              "    border: none;\n",
              "    border-radius: 50%;\n",
              "    cursor: pointer;\n",
              "    display: none;\n",
              "    fill: #1967D2;\n",
              "    height: 32px;\n",
              "    padding: 0 0 0 0;\n",
              "    width: 32px;\n",
              "  }\n",
              "\n",
              "  .colab-df-quickchart:hover {\n",
              "    background-color: #E2EBFA;\n",
              "    box-shadow: 0px 1px 2px rgba(60, 64, 67, 0.3), 0px 1px 3px 1px rgba(60, 64, 67, 0.15);\n",
              "    fill: #174EA6;\n",
              "  }\n",
              "\n",
              "  [theme=dark] .colab-df-quickchart {\n",
              "    background-color: #3B4455;\n",
              "    fill: #D2E3FC;\n",
              "  }\n",
              "\n",
              "  [theme=dark] .colab-df-quickchart:hover {\n",
              "    background-color: #434B5C;\n",
              "    box-shadow: 0px 1px 3px 1px rgba(0, 0, 0, 0.15);\n",
              "    filter: drop-shadow(0px 1px 2px rgba(0, 0, 0, 0.3));\n",
              "    fill: #FFFFFF;\n",
              "  }\n",
              "</style>\n",
              "\n",
              "    <script>\n",
              "      async function quickchart(key) {\n",
              "        const containerElement = document.querySelector('#' + key);\n",
              "        const charts = await google.colab.kernel.invokeFunction(\n",
              "            'suggestCharts', [key], {});\n",
              "      }\n",
              "    </script>\n",
              "\n",
              "      <script>\n",
              "\n",
              "function displayQuickchartButton(domScope) {\n",
              "  let quickchartButtonEl =\n",
              "    domScope.querySelector('#df-8a403160-be3c-4f15-9e3d-e828351fe7f2 button.colab-df-quickchart');\n",
              "  quickchartButtonEl.style.display =\n",
              "    google.colab.kernel.accessAllowed ? 'block' : 'none';\n",
              "}\n",
              "\n",
              "        displayQuickchartButton(document);\n",
              "      </script>\n",
              "      <style>\n",
              "    .colab-df-container {\n",
              "      display:flex;\n",
              "      flex-wrap:wrap;\n",
              "      gap: 12px;\n",
              "    }\n",
              "\n",
              "    .colab-df-convert {\n",
              "      background-color: #E8F0FE;\n",
              "      border: none;\n",
              "      border-radius: 50%;\n",
              "      cursor: pointer;\n",
              "      display: none;\n",
              "      fill: #1967D2;\n",
              "      height: 32px;\n",
              "      padding: 0 0 0 0;\n",
              "      width: 32px;\n",
              "    }\n",
              "\n",
              "    .colab-df-convert:hover {\n",
              "      background-color: #E2EBFA;\n",
              "      box-shadow: 0px 1px 2px rgba(60, 64, 67, 0.3), 0px 1px 3px 1px rgba(60, 64, 67, 0.15);\n",
              "      fill: #174EA6;\n",
              "    }\n",
              "\n",
              "    [theme=dark] .colab-df-convert {\n",
              "      background-color: #3B4455;\n",
              "      fill: #D2E3FC;\n",
              "    }\n",
              "\n",
              "    [theme=dark] .colab-df-convert:hover {\n",
              "      background-color: #434B5C;\n",
              "      box-shadow: 0px 1px 3px 1px rgba(0, 0, 0, 0.15);\n",
              "      filter: drop-shadow(0px 1px 2px rgba(0, 0, 0, 0.3));\n",
              "      fill: #FFFFFF;\n",
              "    }\n",
              "  </style>\n",
              "\n",
              "      <script>\n",
              "        const buttonEl =\n",
              "          document.querySelector('#df-91f48d68-42fa-456a-896d-3f581289ba50 button.colab-df-convert');\n",
              "        buttonEl.style.display =\n",
              "          google.colab.kernel.accessAllowed ? 'block' : 'none';\n",
              "\n",
              "        async function convertToInteractive(key) {\n",
              "          const element = document.querySelector('#df-91f48d68-42fa-456a-896d-3f581289ba50');\n",
              "          const dataTable =\n",
              "            await google.colab.kernel.invokeFunction('convertToInteractive',\n",
              "                                                     [key], {});\n",
              "          if (!dataTable) return;\n",
              "\n",
              "          const docLinkHtml = 'Like what you see? Visit the ' +\n",
              "            '<a target=\"_blank\" href=https://colab.research.google.com/notebooks/data_table.ipynb>data table notebook</a>'\n",
              "            + ' to learn more about interactive tables.';\n",
              "          element.innerHTML = '';\n",
              "          dataTable['output_type'] = 'display_data';\n",
              "          await google.colab.output.renderOutput(dataTable, element);\n",
              "          const docLink = document.createElement('div');\n",
              "          docLink.innerHTML = docLinkHtml;\n",
              "          element.appendChild(docLink);\n",
              "        }\n",
              "      </script>\n",
              "    </div>\n",
              "  </div>\n"
            ]
          },
          "metadata": {},
          "execution_count": 13
        }
      ]
    },
    {
      "cell_type": "markdown",
      "source": [
        "## 🖊 Writing the Reference Profile to WhyLabs"
      ],
      "metadata": {
        "id": "oO1ga03WFZ9l"
      }
    },
    {
      "cell_type": "markdown",
      "source": [
        "Defining the Reference Profile name:"
      ],
      "metadata": {
        "id": "eMSU6u0sMr4Z"
      }
    },
    {
      "cell_type": "code",
      "source": [
        "reference_profile_name = \"training_data_v1\""
      ],
      "metadata": {
        "id": "HQgO4746Myhc"
      },
      "execution_count": 14,
      "outputs": []
    },
    {
      "cell_type": "code",
      "source": [
        "from whylogs.api.writer.whylabs import WhyLabsWriter\n",
        "\n",
        "results.writer(\"whylabs\").option(reference_profile_name=reference_profile_name).write()"
      ],
      "metadata": {
        "id": "E1cEEmT3FaZc",
        "colab": {
          "base_uri": "https://localhost:8080/"
        },
        "outputId": "72f08385-fb3d-4a40-d419-1013ea553ef6"
      },
      "execution_count": 15,
      "outputs": [
        {
          "output_type": "execute_result",
          "data": {
            "text/plain": [
              "[(True, 'training_data_v1')]"
            ]
          },
          "metadata": {},
          "execution_count": 15
        }
      ]
    },
    {
      "cell_type": "markdown",
      "source": [
        "## Updating the monitor baseline with a new Reference Profile ID"
      ],
      "metadata": {
        "id": "8GYeqtsJGABQ"
      }
    },
    {
      "cell_type": "markdown",
      "source": [
        "TO DO: Specify the name of the monitor to be updated. This code assumes that a monitor with the given name already exists."
      ],
      "metadata": {
        "id": "82PRq1_wMVqA"
      }
    },
    {
      "cell_type": "code",
      "source": [
        "monitor_name = \"stddev-monitor\""
      ],
      "metadata": {
        "id": "pwcXdzzAMSSI"
      },
      "execution_count": 25,
      "outputs": []
    },
    {
      "cell_type": "code",
      "source": [
        "!pip install -qq whylabs-toolkit"
      ],
      "metadata": {
        "colab": {
          "base_uri": "https://localhost:8080/"
        },
        "id": "VNO8FMI9GdV6",
        "outputId": "3d335ffd-0369-42cc-aead-bf82d0ca0528"
      },
      "execution_count": 17,
      "outputs": [
        {
          "output_type": "stream",
          "name": "stdout",
          "text": [
            "\u001b[?25l     \u001b[90m━━━━━━━━━━━━━━━━━━━━━━━━━━━━━━━━━━━━━━━━\u001b[0m \u001b[32m0.0/47.7 kB\u001b[0m \u001b[31m?\u001b[0m eta \u001b[36m-:--:--\u001b[0m\r\u001b[2K     \u001b[90m━━━━━━━━━━━━━━━━━━━━━━━━━━━━━━━━━━━━━━━━\u001b[0m \u001b[32m47.7/47.7 kB\u001b[0m \u001b[31m1.2 MB/s\u001b[0m eta \u001b[36m0:00:00\u001b[0m\n",
            "\u001b[2K     \u001b[90m━━━━━━━━━━━━━━━━━━━━━━━━━━━━━━━━━━━━━━━━\u001b[0m \u001b[32m81.0/81.0 kB\u001b[0m \u001b[31m3.9 MB/s\u001b[0m eta \u001b[36m0:00:00\u001b[0m\n",
            "\u001b[2K     \u001b[90m━━━━━━━━━━━━━━━━━━━━━━━━━━━━━━━━━━━━━━━━\u001b[0m \u001b[32m1.2/1.2 MB\u001b[0m \u001b[31m19.8 MB/s\u001b[0m eta \u001b[36m0:00:00\u001b[0m\n",
            "\u001b[?25h"
          ]
        }
      ]
    },
    {
      "cell_type": "code",
      "source": [
        "os.environ[\"ORG_ID\"] = os.environ[\"WHYLABS_DEFAULT_ORG_ID\"]\n",
        "os.environ[\"DATASET_ID\"] = os.environ[\"WHYLABS_DEFAULT_DATASET_ID\"]"
      ],
      "metadata": {
        "id": "IZKIimiKGA1X"
      },
      "execution_count": 18,
      "outputs": []
    },
    {
      "cell_type": "code",
      "source": [
        "from whylabs_toolkit.monitor import MonitorSetup, MonitorManager\n",
        "from whylabs_toolkit.monitor.models import *"
      ],
      "metadata": {
        "id": "dEAYCP2EGg23"
      },
      "execution_count": 26,
      "outputs": []
    },
    {
      "cell_type": "code",
      "source": [
        "monitor_setup = MonitorSetup(\n",
        "    monitor_id=monitor_name\n",
        "\n",
        ")"
      ],
      "metadata": {
        "id": "kxCK-ZKWGpBq",
        "colab": {
          "base_uri": "https://localhost:8080/"
        },
        "outputId": "ab24b0ba-e29d-4d5d-d02a-9a400e680802"
      },
      "execution_count": 27,
      "outputs": [
        {
          "output_type": "stream",
          "name": "stderr",
          "text": [
            "WARNING:whylabs_toolkit.helpers.monitor_helpers:Could not find a monitor with id stddev-monitor for model-27.Did you set a correct WHYLABS_API_KEY?\n"
          ]
        }
      ]
    },
    {
      "cell_type": "code",
      "source": [
        "if monitor_setup.config:\n",
        "    print(f\"Updating monitor {monitor_name}\" in {os.environ['DATASET_ID']})\n",
        "    monitor_setup.config.baseline=ReferenceProfileId(profileId=reference_profile_name)\n",
        "else:\n",
        "    print(f\"Creating monitor {monitor_name} in {os.environ['DATASET_ID']}\")\n",
        "    monitor_setup.config = StddevConfig(\n",
        "        metric=SimpleColumnMetric.median,\n",
        "        baseline=ReferenceProfileId(profileId=reference_profile_name)\n",
        "      )\n",
        "    monitor_setup.actions = [EmailRecipient(id=\"natalias-email\", destination=\"natalia+test@whylabs.ai\")]"
      ],
      "metadata": {
        "colab": {
          "base_uri": "https://localhost:8080/"
        },
        "id": "ZrYIkc0dkLzS",
        "outputId": "b4fbc89f-5de2-408f-aa93-56683602e1e5"
      },
      "execution_count": 29,
      "outputs": [
        {
          "output_type": "stream",
          "name": "stdout",
          "text": [
            "Creating monitor stddev-monitor in model-27\n"
          ]
        }
      ]
    },
    {
      "cell_type": "code",
      "source": [
        "monitor_setup.config"
      ],
      "metadata": {
        "colab": {
          "base_uri": "https://localhost:8080/"
        },
        "id": "0IJtOwiup1kI",
        "outputId": "c95f6e6e-3eae-4c2e-faab-4ac21c7dee96"
      },
      "execution_count": 30,
      "outputs": [
        {
          "output_type": "execute_result",
          "data": {
            "text/plain": [
              "StddevConfig(schemaVersion=None, params=None, metric=<SimpleColumnMetric.median: 'median'>, maxUpperThreshold=None, minLowerThreshold=None, type=<AlgorithmType.stddev: 'stddev'>, factor=3.0, minBatchSize=1, baseline=ReferenceProfileId(datasetId=None, type=<BaselineType.Reference: 'Reference'>, profileId='training_data_v1'))"
            ]
          },
          "metadata": {},
          "execution_count": 30
        }
      ]
    },
    {
      "cell_type": "code",
      "source": [
        "monitor_setup.apply()\n"
      ],
      "metadata": {
        "id": "208_fHy4jwWu"
      },
      "execution_count": 31,
      "outputs": []
    },
    {
      "cell_type": "code",
      "source": [
        "manager = MonitorManager(\n",
        "    setup=monitor_setup\n",
        ")\n",
        "\n",
        "manager.save()"
      ],
      "metadata": {
        "id": "Hk5aQV8cMF9W"
      },
      "execution_count": 33,
      "outputs": []
    },
    {
      "cell_type": "code",
      "source": [],
      "metadata": {
        "id": "Eb1Md0WKlIj1"
      },
      "execution_count": null,
      "outputs": []
    }
  ]
}